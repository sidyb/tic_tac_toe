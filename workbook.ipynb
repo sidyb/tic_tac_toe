{
 "cells": [
  {
   "cell_type": "markdown",
   "metadata": {},
   "source": [
    "* My First project:\n",
    "** Tic Tac Toe game for 2 players\n",
    "\n",
    "**Motivation**:\n",
    "    -   to learn new things and learn to build project from ground up."
   ]
  },
  {
   "cell_type": "markdown",
   "metadata": {},
   "source": [
    "***Outline:\n",
    "\n",
    "-   **gameOn**: function to determine if user want to play game\n",
    "-   **displayGame**: Some sort of welcome banner. Maybe basic info?\n",
    "-   **gameBoard**: Some sort of fuction that displays gameBoard\n",
    "    -   **refreshBoard**: Function that refreshes game board after user input?\n",
    "TODO: add other functions as needed"
   ]
  },
  {
   "cell_type": "code",
   "execution_count": null,
   "metadata": {},
   "outputs": [],
   "source": [
    "from typing import Dict, List, Any, Hashable\n",
    "import hashlib\n",
    "import json\n",
    "import pprint\n",
    "import os\n",
    "import re\n",
    "import requests\n",
    "import time\n",
    "import difflib\n",
    "import logging"
   ]
  },
  {
   "cell_type": "code",
   "execution_count": null,
   "metadata": {},
   "outputs": [],
   "source": [
    "# # Configure logging\n",
    "# script_directory = os.path.dirname(os.path.realpath(__file__))\n",
    "# log_file = os.path.join(script_directory, 'ttc.log')\n",
    "\n",
    "# logging.basicConfig(filename=log_file, filemode='a', level=logging.DEBUG, format='%(asctime)s - %(levelname)s - %(message)s')"
   ]
  },
  {
   "cell_type": "code",
   "execution_count": null,
   "metadata": {},
   "outputs": [],
   "source": [
    "def displayGame():\n",
    "    \"\"\"\n",
    "    Displays the welcome banner to the players\n",
    "    \"\"\"\n",
    "\n",
    "    print('Welcome to the game of Tic Tac Toe')\n",
    "    print('Author: SidyB')\n",
    "    print('\\n')\n",
    "    print('Let\\'s get ready to rumble!!!')\n",
    "    print('#######################################')\n",
    "    print('\\n')"
   ]
  },
  {
   "cell_type": "code",
   "execution_count": null,
   "metadata": {},
   "outputs": [],
   "source": [
    "def gameOn(userInput: str) -> bool:\n",
    "    \"\"\"\n",
    "    Determines if the user want to play/keep playing game.\n",
    "\n",
    "    parameters:\n",
    "    - userInput: Takes input of the user\n",
    "    \"\"\"\n",
    "    on,off = ('Y', 'N')\n",
    "    if userInput == on:\n",
    "        return True\n",
    "    elif userInput == off:\n",
    "        return False"
   ]
  },
  {
   "cell_type": "code",
   "execution_count": null,
   "metadata": {},
   "outputs": [],
   "source": [
    "def playerChoice() -> Dict[str, str]:\n",
    "    \"\"\"\n",
    "    Prompts the user to enter their choice of marker (X or O)\n",
    "\n",
    "    returns:\n",
    "    - payerChoice: A dictionary containing the choice of the players\n",
    "    \"\"\"\n",
    "    marker = ''\n",
    "    players = {}\n",
    "    while marker not in ('X', 'O'):\n",
    "        marker = input('Player 1: Do you want to be X or O? ').upper()\n",
    "    if marker == 'X':\n",
    "        players['P1'] = 'X'\n",
    "        players['P2'] = 'O'\n",
    "    else:\n",
    "        players['P1'] = 'O'\n",
    "        players['P2'] = 'X'\n",
    "    return dict(players)\n"
   ]
  },
  {
   "cell_type": "code",
   "execution_count": null,
   "metadata": {},
   "outputs": [],
   "source": [
    "def createBoard(boardSize: int) -> List[List[str]]:\n",
    "    \"\"\"\n",
    "    Askes the user to enter the size of the board and creates the board for the game.\n",
    "    \"\"\"\n",
    "\n",
    "    while board.isdigit() == False and board not in range(3, 10):\n",
    "        board = input('Enter the size of the board [3-10]: ') \n",
    "    arrBoard = [['-' for i in range(boardSize)] for j in range(boardSize)]\n",
    "    return list(arrBoard)\n",
    "    "
   ]
  },
  {
   "cell_type": "code",
   "execution_count": null,
   "metadata": {},
   "outputs": [],
   "source": [
    "# function that updates the board\n",
    "def updateBoard(board: List[List[str]], marker: str, position: int) -> List[List[str]]:\n",
    "    \"\"\"\n",
    "    Updates the board with the marker at the specified position.\n",
    "\n",
    "    parameters:\n",
    "    - board: The game board\n",
    "    - marker: The marker to be placed on the board\n",
    "    - position: The position on the board to place the marker\n",
    "    \"\"\"\n",
    "    boardSize = len(board)\n",
    "    row = (position-1) // boardSize\n",
    "    col = (position-1) % boardSize\n",
    "    print(row, col)\n",
    "    if board[row][col] == '-':\n",
    "        board[row][col] = marker\n",
    "    return board"
   ]
  },
  {
   "cell_type": "code",
   "execution_count": null,
   "metadata": {},
   "outputs": [],
   "source": [
    "def displayBoard(board: List[List[str]]) -> None:\n",
    "    \"\"\"\n",
    "    Displays the game board to the players\n",
    "    \"\"\"\n",
    "    boardSize = len(board)\n",
    "    print('-' * boardSize * 4)\n",
    "    for i in range(boardSize):\n",
    "        print('| ' + ' | '.join(board[i]) + ' |')\n",
    "        if i < boardSize - 1:\n",
    "            print('-' * boardSize * 4)\n",
    "        elif i == boardSize - 1:\n",
    "            print('-' * boardSize * 4)\n",
    "    print('\\n')"
   ]
  },
  {
   "cell_type": "code",
   "execution_count": null,
   "metadata": {},
   "outputs": [],
   "source": [
    "def displayPositions(board: List[List[str]]) -> None:\n",
    "    \"\"\"\n",
    "    Displays the positions on the board to the players\n",
    "    \"\"\"\n",
    "    boardSize = len(board)\n",
    "    print('The positions on the board are as follows:')\n",
    "    print('-' * boardSize * 5)\n",
    "    for i in range(1, boardSize**2 + 1): # boardSize**2 + 1 to include the last position\n",
    "        row = (i-1) // boardSize\n",
    "        col = (i-1) % boardSize\n",
    "        \n",
    "        if board[row][col] == 'X' or board[row][col] == 'O':\n",
    "            print(f'| {board[row][col]}', end=' ')\n",
    "\n",
    "        elif i < boardSize**2 + 1:\n",
    "            print(f'| {i:02}', end=' ') # f-string converts the integer to a string and adds a leading zero if the number is less than 10 for better readability\n",
    "        else:\n",
    "            print(f'| {i}', end=' ')\n",
    "        \n",
    "        if i % boardSize == 0:\n",
    "            print('|\\n' + '-' * boardSize * 5)"
   ]
  },
  {
   "cell_type": "code",
   "execution_count": null,
   "metadata": {},
   "outputs": [],
   "source": [
    "def checkWinner(board: List[List[str]], marker: str) -> bool:\n",
    "    \"\"\"\n",
    "    Checks if the player has won the game\n",
    "\n",
    "    parameters:\n",
    "    - board: The game board\n",
    "    - marker: The marker to be placed on the board\n",
    "    \"\"\"\n",
    "    boardSize = len(board)\n",
    "\n",
    "    for i in range(1, boardSize**2 + 1): # boardSize**2 + 1 to include the last position\n",
    "        row = (i-1) // boardSize\n",
    "        col = (i-1) % boardSize\n",
    "\n",
    "        if board[row][col] == marker:\n",
    "            # check for horizontal win\n",
    "            for position in board[row][col+1:col+2]:\n",
    "                if position == marker and col+2 < boardSize and board[row][col+2] == marker:\n",
    "                    return True\n",
    "            # check for vertical win\n",
    "            for position in board[row+1:row+2]:\n",
    "                if position[col] == marker and row+2 < boardSize and board[row+2][col] == marker: # row+2 < boardSize to avoid index out of range error\n",
    "                    return True\n",
    "            # check for diagonal win\n",
    "            if board[row+1][col-1] == marker and board[row-1][col+1] == marker:\n",
    "                return True\n",
    "            elif board[row-1][col-1] == marker and board[row+1][col+1] == marker:\n",
    "                return True\n",
    "        else:\n",
    "            continue\n",
    "    return False\n",
    "            "
   ]
  },
  {
   "cell_type": "code",
   "execution_count": null,
   "metadata": {},
   "outputs": [],
   "source": [
    "def startGame():\n",
    "    \"\"\"\n",
    "    Asks the user if they want to play the game and starts the game.\n",
    "    \"\"\"\n",
    "    state = 3\n",
    "    while isinstance(state, str) == False:\n",
    "        state = input('Do you want to play the game? [Y/N]: ').upper()\n",
    "\n",
    "        if isinstance(state, str) == False:\n",
    "            print('Invalid input. Please enter Y or N')\n",
    "            continue\n",
    "    return gameOn(state)"
   ]
  },
  {
   "cell_type": "code",
   "execution_count": null,
   "metadata": {},
   "outputs": [],
   "source": [
    "board = createBoard(10)"
   ]
  },
  {
   "cell_type": "code",
   "execution_count": null,
   "metadata": {},
   "outputs": [],
   "source": [
    "displayBoard(board)"
   ]
  },
  {
   "cell_type": "code",
   "execution_count": null,
   "metadata": {},
   "outputs": [],
   "source": [
    "updateBoard(board, 'X', 56)"
   ]
  },
  {
   "cell_type": "code",
   "execution_count": null,
   "metadata": {},
   "outputs": [],
   "source": [
    "displayBoard(board)"
   ]
  },
  {
   "cell_type": "code",
   "execution_count": null,
   "metadata": {},
   "outputs": [],
   "source": [
    "displayPositions(board)"
   ]
  },
  {
   "cell_type": "code",
   "execution_count": null,
   "metadata": {},
   "outputs": [],
   "source": [
    "checkWinner(board, 'X')"
   ]
  },
  {
   "cell_type": "code",
   "execution_count": null,
   "metadata": {},
   "outputs": [],
   "source": []
  }
 ],
 "metadata": {
  "kernelspec": {
   "display_name": "Python 3",
   "language": "python",
   "name": "python3"
  },
  "language_info": {
   "codemirror_mode": {
    "name": "ipython",
    "version": 3
   },
   "file_extension": ".py",
   "mimetype": "text/x-python",
   "name": "python",
   "nbconvert_exporter": "python",
   "pygments_lexer": "ipython3",
   "version": "3.10.11"
  }
 },
 "nbformat": 4,
 "nbformat_minor": 2
}
