{
 "cells": [
  {
   "cell_type": "markdown",
   "metadata": {},
   "source": [
    "* My First project:\n",
    "** Tic Tac Toe game for 2 players\n",
    "\n",
    "**Motivation**:\n",
    "    -   to learn new things and learn to build project from ground up."
   ]
  },
  {
   "cell_type": "markdown",
   "metadata": {},
   "source": [
    "***Outline:\n",
    "\n",
    "-   **gameOn**: function to determine if user want to play game\n",
    "-   **displayGame**: Some sort of welcome banner. Maybe basic info?\n",
    "-   **gameBoard**: Some sort of fuction that displays gameBoard\n",
    "    -   **refreshBoard**: Function that refreshes game board after user input?\n",
    "TODO: add other functions as needed"
   ]
  },
  {
   "cell_type": "code",
   "execution_count": 165,
   "metadata": {},
   "outputs": [],
   "source": [
    "from typing import Dict, List, Any, Hashable\n",
    "import hashlib\n",
    "import json\n",
    "import pprint\n",
    "import os\n",
    "import re\n",
    "import requests\n",
    "import time\n",
    "import difflib\n",
    "import logging"
   ]
  },
  {
   "cell_type": "code",
   "execution_count": 166,
   "metadata": {},
   "outputs": [],
   "source": [
    "# # Configure logging\n",
    "# script_directory = os.path.dirname(os.path.realpath(__file__))\n",
    "# log_file = os.path.join(script_directory, 'ttc.log')\n",
    "\n",
    "# logging.basicConfig(filename=log_file, filemode='a', level=logging.DEBUG, format='%(asctime)s - %(levelname)s - %(message)s')"
   ]
  },
  {
   "cell_type": "code",
   "execution_count": 167,
   "metadata": {},
   "outputs": [],
   "source": [
    "def displayGame():\n",
    "    \"\"\"\n",
    "    Displays the welcome banner to the players\n",
    "    \"\"\"\n",
    "\n",
    "    print('Welcome to the game of Tic Tac Toe')\n",
    "    print('Author: SidyB')\n",
    "    print('\\n')\n",
    "    print('Let\\'s get ready to rumble!!!')\n",
    "    print('#######################################')"
   ]
  },
  {
   "cell_type": "code",
   "execution_count": 168,
   "metadata": {},
   "outputs": [],
   "source": [
    "def gameOn(userInput: str) -> bool:\n",
    "    \"\"\"\n",
    "    Determines if the user want to play/keep playing game.\n",
    "\n",
    "    parameters:\n",
    "    - userInput: Takes input of the user\n",
    "    \"\"\"\n",
    "    on,off = ('Y', 'N')\n",
    "    if userInput == on:\n",
    "        return True\n",
    "    elif userInput == off:\n",
    "        return False"
   ]
  },
  {
   "cell_type": "code",
   "execution_count": 169,
   "metadata": {},
   "outputs": [],
   "source": [
    "def playerChoice() -> Dict[str, str]:\n",
    "    \"\"\"\n",
    "    Prompts the user to enter their choice of marker (X or O)\n",
    "\n",
    "    returns:\n",
    "    - payerChoice: A dictionary containing the choice of the players\n",
    "    \"\"\"\n",
    "    marker = ''\n",
    "    players = {}\n",
    "    while marker not in ('X', 'O'):\n",
    "        marker = input('Player 1: Do you want to be X or O? ').upper()\n",
    "    if marker == 'X':\n",
    "        players['P1'] = 'X'\n",
    "        players['P2'] = 'O'\n",
    "    else:\n",
    "        players['P1'] = 'O'\n",
    "        players['P2'] = 'X'\n",
    "    return players\n"
   ]
  },
  {
   "cell_type": "code",
   "execution_count": 170,
   "metadata": {},
   "outputs": [],
   "source": [
    "# let's create a fuction that return the board. We should be ableto access the elements of the board to place a marker\n",
    "def createBoard(boardSize: int) -> List[List[str]]:\n",
    "    \"\"\"\n",
    "    Creates the board for the game as list of lists.\n",
    "    \"\"\"\n",
    "    arrBoard = [['+' for i in range(boardSize)] for j in range(boardSize)]\n",
    "    return arrBoard\n",
    "    "
   ]
  },
  {
   "cell_type": "code",
   "execution_count": 171,
   "metadata": {},
   "outputs": [],
   "source": [
    "# function that updates the board\n",
    "def updateBoard(board: List[List[str]], marker: str, position: int) -> List[List[str]]:\n",
    "    \"\"\"\n",
    "    Updates the board with the marker at the specified position.\n",
    "\n",
    "    parameters:\n",
    "    - board: The game board\n",
    "    - marker: The marker to be placed on the board\n",
    "    - position: The position on the board to place the marker\n",
    "    \"\"\"\n",
    "    boardSize = len(board)\n",
    "    row = (position-1) // boardSize\n",
    "    col = (position-1) % boardSize\n",
    "    print(row, col)\n",
    "    if board[row][col] == '+':\n",
    "        board[row][col] = marker\n",
    "    return board"
   ]
  },
  {
   "cell_type": "code",
   "execution_count": 172,
   "metadata": {},
   "outputs": [],
   "source": [
    "def displayBoard(board: List[List[str]]) -> None:\n",
    "    \"\"\"\n",
    "    Displays the game board to the players\n",
    "    \"\"\"\n",
    "    boardSize = len(board)\n",
    "    print('-' * boardSize * 4)\n",
    "    for i in range(boardSize):\n",
    "        print('| ' + ' | '.join(board[i]) + ' |')\n",
    "        if i < boardSize - 1:\n",
    "            print('-' * boardSize * 4)\n",
    "        elif i == boardSize - 1:\n",
    "            print('-' * boardSize * 4)\n",
    "    print('\\n')"
   ]
  },
  {
   "cell_type": "code",
   "execution_count": 173,
   "metadata": {},
   "outputs": [],
   "source": [
    "def displayPositions(board: List[List[str]]) -> None:\n",
    "    \"\"\"\n",
    "    Displays the positions on the board to the players\n",
    "    \"\"\"\n",
    "    boardSize = len(board)\n",
    "    print('The positions on the board are as follows:')\n",
    "    for i in range(1, boardSize**2 + 1):\n",
    "        print(i, end=' ')\n",
    "        if i % boardSize == 0:\n",
    "            print('\\n')"
   ]
  },
  {
   "cell_type": "code",
   "execution_count": 174,
   "metadata": {},
   "outputs": [],
   "source": [
    "board = createBoard(10)"
   ]
  },
  {
   "cell_type": "code",
   "execution_count": 175,
   "metadata": {},
   "outputs": [
    {
     "name": "stdout",
     "output_type": "stream",
     "text": [
      "----------------------------------------\n",
      "| + | + | + | + | + | + | + | + | + | + |\n",
      "----------------------------------------\n",
      "| + | + | + | + | + | + | + | + | + | + |\n",
      "----------------------------------------\n",
      "| + | + | + | + | + | + | + | + | + | + |\n",
      "----------------------------------------\n",
      "| + | + | + | + | + | + | + | + | + | + |\n",
      "----------------------------------------\n",
      "| + | + | + | + | + | + | + | + | + | + |\n",
      "----------------------------------------\n",
      "| + | + | + | + | + | + | + | + | + | + |\n",
      "----------------------------------------\n",
      "| + | + | + | + | + | + | + | + | + | + |\n",
      "----------------------------------------\n",
      "| + | + | + | + | + | + | + | + | + | + |\n",
      "----------------------------------------\n",
      "| + | + | + | + | + | + | + | + | + | + |\n",
      "----------------------------------------\n",
      "| + | + | + | + | + | + | + | + | + | + |\n",
      "----------------------------------------\n",
      "\n",
      "\n"
     ]
    }
   ],
   "source": [
    "displayBoard(board)"
   ]
  },
  {
   "cell_type": "code",
   "execution_count": 176,
   "metadata": {},
   "outputs": [
    {
     "name": "stdout",
     "output_type": "stream",
     "text": [
      "0 1\n"
     ]
    }
   ],
   "source": [
    "updateBoard = updateBoard(board, 'X', 2)"
   ]
  },
  {
   "cell_type": "code",
   "execution_count": 177,
   "metadata": {},
   "outputs": [
    {
     "name": "stdout",
     "output_type": "stream",
     "text": [
      "----------------------------------------\n",
      "| + | X | + | + | + | + | + | + | + | + |\n",
      "----------------------------------------\n",
      "| + | + | + | + | + | + | + | + | + | + |\n",
      "----------------------------------------\n",
      "| + | + | + | + | + | + | + | + | + | + |\n",
      "----------------------------------------\n",
      "| + | + | + | + | + | + | + | + | + | + |\n",
      "----------------------------------------\n",
      "| + | + | + | + | + | + | + | + | + | + |\n",
      "----------------------------------------\n",
      "| + | + | + | + | + | + | + | + | + | + |\n",
      "----------------------------------------\n",
      "| + | + | + | + | + | + | + | + | + | + |\n",
      "----------------------------------------\n",
      "| + | + | + | + | + | + | + | + | + | + |\n",
      "----------------------------------------\n",
      "| + | + | + | + | + | + | + | + | + | + |\n",
      "----------------------------------------\n",
      "| + | + | + | + | + | + | + | + | + | + |\n",
      "----------------------------------------\n",
      "\n",
      "\n"
     ]
    }
   ],
   "source": [
    "displayBoard(updateBoard)"
   ]
  },
  {
   "cell_type": "code",
   "execution_count": 178,
   "metadata": {},
   "outputs": [
    {
     "name": "stdout",
     "output_type": "stream",
     "text": [
      "The positions on the board are as follows:\n",
      "1 2 3 4 5 6 7 8 9 10 \n",
      "\n",
      "11 12 13 14 15 16 17 18 19 20 \n",
      "\n",
      "21 22 23 24 25 26 27 28 29 30 \n",
      "\n",
      "31 32 33 34 35 36 37 38 39 40 \n",
      "\n",
      "41 42 43 44 45 46 47 48 49 50 \n",
      "\n",
      "51 52 53 54 55 56 57 58 59 60 \n",
      "\n",
      "61 62 63 64 65 66 67 68 69 70 \n",
      "\n",
      "71 72 73 74 75 76 77 78 79 80 \n",
      "\n",
      "81 82 83 84 85 86 87 88 89 90 \n",
      "\n",
      "91 92 93 94 95 96 97 98 99 100 \n",
      "\n"
     ]
    }
   ],
   "source": [
    "displayPositions(board)"
   ]
  }
 ],
 "metadata": {
  "kernelspec": {
   "display_name": "Python 3",
   "language": "python",
   "name": "python3"
  },
  "language_info": {
   "codemirror_mode": {
    "name": "ipython",
    "version": 3
   },
   "file_extension": ".py",
   "mimetype": "text/x-python",
   "name": "python",
   "nbconvert_exporter": "python",
   "pygments_lexer": "ipython3",
   "version": "3.10.11"
  }
 },
 "nbformat": 4,
 "nbformat_minor": 2
}
