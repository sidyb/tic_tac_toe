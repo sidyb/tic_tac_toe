{
 "cells": [
  {
   "cell_type": "markdown",
   "metadata": {},
   "source": [
    "* My First project:\n",
    "** Tic Tac Toe game for 2 players\n",
    "\n",
    "**Motivation**:\n",
    "    -   to learn new things and learn to build project from ground up."
   ]
  },
  {
   "cell_type": "markdown",
   "metadata": {},
   "source": [
    "***Outline:\n",
    "\n",
    "-   **gameOn**: function to determine if user want to play game\n",
    "-   **displayGame**: Some sort of welcome banner. Maybe basic info?\n",
    "-   **gameBoard**: Some sort of fuction that displays gameBoard\n",
    "    -   **refreshBoard**: Function that refreshes game board after user input?\n",
    "TODO: add other functions as needed"
   ]
  },
  {
   "cell_type": "code",
   "execution_count": 1,
   "metadata": {},
   "outputs": [],
   "source": [
    "from typing import Dict, List, Any, Hashable\n",
    "import hashlib\n",
    "import json\n",
    "import pprint\n",
    "import os\n",
    "import re\n",
    "import requests\n",
    "import time\n",
    "import difflib\n",
    "import logging"
   ]
  },
  {
   "cell_type": "code",
   "execution_count": 4,
   "metadata": {},
   "outputs": [],
   "source": [
    "def displayGame():\n",
    "    \"\"\"\n",
    "    Displays the welcome banner to the players\n",
    "    \"\"\"\n",
    "\n",
    "    print('Welcome to the game of Tic Tac Toe')\n",
    "    print('Author: SidyB')\n",
    "    print('\\n')\n",
    "    print('Let\\'s get ready to rumble!!!')\n",
    "    print('#######################################')"
   ]
  },
  {
   "cell_type": "code",
   "execution_count": 5,
   "metadata": {},
   "outputs": [
    {
     "name": "stdout",
     "output_type": "stream",
     "text": [
      "Welcome to the game of Tic Tac Toe\n",
      "Author: SidyB\n",
      "\n",
      "\n",
      "Let's get ready to rumble!!!\n",
      "#######################################\n"
     ]
    }
   ],
   "source": [
    "displayGame()"
   ]
  },
  {
   "cell_type": "code",
   "execution_count": null,
   "metadata": {},
   "outputs": [],
   "source": []
  }
 ],
 "metadata": {
  "kernelspec": {
   "display_name": "Python 3",
   "language": "python",
   "name": "python3"
  },
  "language_info": {
   "codemirror_mode": {
    "name": "ipython",
    "version": 3
   },
   "file_extension": ".py",
   "mimetype": "text/x-python",
   "name": "python",
   "nbconvert_exporter": "python",
   "pygments_lexer": "ipython3",
   "version": "3.10.11"
  }
 },
 "nbformat": 4,
 "nbformat_minor": 2
}
