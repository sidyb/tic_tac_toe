{
 "cells": [
  {
   "cell_type": "markdown",
   "metadata": {},
   "source": [
    "* My First project:\n",
    "** Tic Tac Toe game for 2 players\n",
    "\n",
    "**Motivation**:\n",
    "    -   to learn new things and learn to build project from ground up."
   ]
  },
  {
   "cell_type": "markdown",
   "metadata": {},
   "source": [
    "***Outline:\n",
    "\n",
    "-   **gameOn**: function to determine if user want to play game\n",
    "-   **displayGame**: Some sort of welcome banner. Maybe basic info?\n",
    "-   **gameBoard**: Some sort of fuction that displays gameBoard\n",
    "    -   **refreshBoard**: Function that refreshes game board after user input?\n",
    "TODO: add other functions as needed"
   ]
  },
  {
   "cell_type": "code",
   "execution_count": 8,
   "metadata": {},
   "outputs": [],
   "source": [
    "from typing import Dict, List, Any, Hashable\n",
    "import hashlib\n",
    "import json\n",
    "import pprint\n",
    "import os\n",
    "import re\n",
    "import requests\n",
    "import time\n",
    "import difflib\n",
    "import logging"
   ]
  },
  {
   "cell_type": "code",
   "execution_count": 9,
   "metadata": {},
   "outputs": [],
   "source": [
    "# # Configure logging\n",
    "# script_directory = os.path.dirname(os.path.realpath(__file__))\n",
    "# log_file = os.path.join(script_directory, 'ttc.log')\n",
    "\n",
    "# logging.basicConfig(filename=log_file, filemode='a', level=logging.DEBUG, format='%(asctime)s - %(levelname)s - %(message)s')"
   ]
  },
  {
   "cell_type": "code",
   "execution_count": 10,
   "metadata": {},
   "outputs": [],
   "source": [
    "def displayGame():\n",
    "    \"\"\"\n",
    "    Displays the welcome banner to the players\n",
    "    \"\"\"\n",
    "\n",
    "    print('Welcome to the game of Tic Tac Toe')\n",
    "    print('Author: SidyB')\n",
    "    print('\\n')\n",
    "    print('Let\\'s get ready to rumble!!!')\n",
    "    print('#######################################')"
   ]
  },
  {
   "cell_type": "code",
   "execution_count": 11,
   "metadata": {},
   "outputs": [],
   "source": [
    "def gameOn(userInput: str) -> bool:\n",
    "    \"\"\"\n",
    "    Determines if the user want to play/keep playing game.\n",
    "\n",
    "    parameters:\n",
    "    - userInput: Takes input of the user\n",
    "    \"\"\"\n",
    "    on,off = ('Y', 'N')\n",
    "    if userInput == on:\n",
    "        return True\n",
    "    elif userInput == off:\n",
    "        return False"
   ]
  },
  {
   "cell_type": "code",
   "execution_count": 12,
   "metadata": {},
   "outputs": [
    {
     "data": {
      "text/plain": [
       "True"
      ]
     },
     "execution_count": 12,
     "metadata": {},
     "output_type": "execute_result"
    }
   ],
   "source": [
    "gameOn('Y')"
   ]
  },
  {
   "cell_type": "code",
   "execution_count": null,
   "metadata": {},
   "outputs": [],
   "source": []
  }
 ],
 "metadata": {
  "kernelspec": {
   "display_name": "Python 3",
   "language": "python",
   "name": "python3"
  },
  "language_info": {
   "codemirror_mode": {
    "name": "ipython",
    "version": 3
   },
   "file_extension": ".py",
   "mimetype": "text/x-python",
   "name": "python",
   "nbconvert_exporter": "python",
   "pygments_lexer": "ipython3",
   "version": "3.10.11"
  }
 },
 "nbformat": 4,
 "nbformat_minor": 2
}
