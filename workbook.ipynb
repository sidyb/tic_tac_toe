{
 "cells": [
  {
   "cell_type": "markdown",
   "metadata": {},
   "source": [
    "* My First project:\n",
    "** Tic Tac Toe game for 2 players\n",
    "\n",
    "**Motivation**:\n",
    "    -   to learn new things and learn to build project from ground up."
   ]
  },
  {
   "cell_type": "markdown",
   "metadata": {},
   "source": []
  }
 ],
 "metadata": {
  "language_info": {
   "name": "python"
  }
 },
 "nbformat": 4,
 "nbformat_minor": 2
}
